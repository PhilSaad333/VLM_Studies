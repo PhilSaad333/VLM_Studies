{
 "cells": [
  {
   "cell_type": "markdown",
   "metadata": {},
   "source": [
    "# Qwen2-VL Playground"
   ]
  },
  {
   "cell_type": "markdown",
   "metadata": {},
   "source": [
    "Mount Google Drive and clone the repository if needed."
   ]
  },
  {
   "cell_type": "code",
   "execution_count": null,
   "metadata": {},
   "outputs": [],
   "source": [
    "from google.colab import drive\ndrive.mount('/content/drive')"
   ]
  },
  {
   "cell_type": "code",
   "execution_count": null,
   "metadata": {},
   "outputs": [],
   "source": [
    "import os\nREPO_DIR = '/content/VLM_Studies'\nif not os.path.exists(REPO_DIR):\n    !git clone https://github.com/PhilSaad333/VLM_Studies.git {REPO_DIR}\nos.chdir(REPO_DIR)\nprint(f'Working directory: {os.getcwd()}')"
   ]
  },
  {
   "cell_type": "code",
   "execution_count": null,
   "metadata": {},
   "outputs": [],
   "source": [
    "!pip install -q -r requirements.txt"
   ]
  },
  {
   "cell_type": "markdown",
   "metadata": {},
   "source": [
    "## Sample NLVR2 examples"
   ]
  },
  {
   "cell_type": "code",
   "execution_count": null,
   "metadata": {},
   "outputs": [],
   "source": [
    "!python scripts/sample_gallery.py --split validation --streaming --streaming-take 512 --num-samples 3 --save-dir /content/drive/MyDrive/VLM_Studies_Files/analysis/sample_gallery"
   ]
  },
  {
   "cell_type": "markdown",
   "metadata": {},
   "source": [
    "## Manual prompt run"
   ]
  },
  {
   "cell_type": "code",
   "execution_count": null,
   "metadata": {},
   "outputs": [],
   "source": [
    "!python scripts/model_playground.py \\n    --model-name Qwen/Qwen2-VL-2B-Instruct \\n    --uid dev-0-0 \\n    --split validation \\n    --streaming \\n    --streaming-take 512 \\n    --question 'Are both pictures showing boats on water? Answer True or False.' \\n    --temperature 0.0 \\n    --max-new-tokens 16 \\n    --log-jsonl /content/drive/MyDrive/VLM_Studies_Files/analysis/playground_runs.jsonl"
   ]
  },
  {
   "cell_type": "code",
   "execution_count": null,
   "metadata": {},
   "outputs": [],
   "source": [
    "from pathlib import Path\n",
    "import sys\n",
    "\n",
    "DATA_ROOT = Path('/content/drive/MyDrive/VLM_Studies_Files')\n",
    "sys.path.insert(0, str(Path.cwd()))\n",
    "\n",
    "from vlm_datasets.nlvr2 import NLVR2DataConfig, load_nlvr2, find_sample_by_uid\n",
    "from utils.uid_cache import UIDCache, cycle_uids\n",
    "\n",
    "cache_dir = DATA_ROOT / 'datasets' / 'nlvr2_cache'\n",
    "cache_dir.mkdir(parents=True, exist_ok=True)\n",
    "dataset_cfg = NLVR2DataConfig(split='validation', streaming=False, cache_dir=str(cache_dir))\n",
    "full_dataset = load_nlvr2(dataset_cfg)\n",
    "\n",
    "UID_CACHE_PATH = DATA_ROOT / 'analysis' / 'uid_cache.json'\n",
    "uid_cache = UIDCache(UID_CACHE_PATH)\n",
    "print('Loaded validation split with', len(full_dataset), 'examples')\n",
    "print('Cached UIDs:', len(uid_cache))\n"
   ]
  },
  {
   "cell_type": "markdown",
   "metadata": {},
   "source": [
    "uid_cache.uids"
   ]
  },
  {
   "cell_type": "code",
   "execution_count": null,
   "metadata": {},
   "outputs": [],
   "source": [
    "from utils.uid_cache import UIDCache, cycle_uids\n",
    "\n",
    "UID_CACHE_PATH = DATA_ROOT / 'analysis' / 'uid_cache.json'\n",
    "uid_cache = UIDCache(UID_CACHE_PATH)\n",
    "print(f'Cached UIDs: {len(uid_cache)}')"
   ]
  },
  {
   "cell_type": "code",
   "execution_count": null,
   "metadata": {},
   "outputs": [],
   "source": [
    "from IPython.display import display\n",
    "\n",
    "def display_sample(sample):\n",
    "    print(f\"UID: {sample['uid']} | Label: {sample['label']}\")\n",
    "    print(sample['sentence'])\n",
    "    for img in sample['images']:\n",
    "        display(img)\n",
    "\n",
    "def cache_uids(uids):\n",
    "    if isinstance(uids, str):\n",
    "        uids = [uids]\n",
    "    uid_cache.extend(uids)\n",
    "    print(f'Cached {len(uid_cache)} total UIDs')\n",
    "\n",
    "def pop_cached_sample(uid=None):\n",
    "    for candidate in cycle_uids(uid_cache, start=uid):\n",
    "        sample = find_sample_by_uid(full_dataset, candidate, limit=None)\n",
    "        display_sample(sample)\n",
    "        return candidate\n",
    "    print('Cache empty')\n"
   ]
  }
 ],
 "metadata": {
  "kernelspec": {
   "display_name": "Python 3",
   "language": "python",
   "name": "python3"
  },
  "language_info": {
   "name": "python"
  }
 },
 "nbformat": 4,
 "nbformat_minor": 5
}