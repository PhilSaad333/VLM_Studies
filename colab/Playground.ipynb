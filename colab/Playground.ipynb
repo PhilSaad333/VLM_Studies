{
 "cells": [
  {
   "cell_type": "markdown",
   "metadata": {},
   "source": [
    "# Qwen2-VL Playground"
   ]
  },
  {
   "cell_type": "markdown",
   "metadata": {},
   "source": [
    "Mount Google Drive and clone the repository if needed."
   ]
  },
  {
   "cell_type": "code",
   "execution_count": null,
   "metadata": {},
   "outputs": [],
   "source": [
    "from google.colab import drive\n",
    "drive.mount('/content/drive')"
   ]
  },
  {
   "cell_type": "code",
   "execution_count": null,
   "metadata": {},
   "outputs": [],
   "source": [
    "import os\n",
    "REPO_DIR = '/content/VLM_Studies'\n",
    "if not os.path.exists(REPO_DIR):\n",
    "    !git clone https://github.com/PhilSaad333/VLM_Studies.git {REPO_DIR}\n",
    "os.chdir(REPO_DIR)\n",
    "print(f'Working directory: {os.getcwd()}')"
   ]
  },
  {
   "cell_type": "code",
   "execution_count": null,
   "metadata": {},
   "outputs": [],
   "source": [
    "!pip install -q -r requirements.txt"
   ]
  },
  {
   "cell_type": "markdown",
   "metadata": {},
   "source": [
    "## Sample NLVR2 examples"
   ]
  },
  {
   "cell_type": "code",
   "execution_count": null,
   "metadata": {},
   "outputs": [],
   "source": [
    "!python scripts/sample_gallery.py --split validation --streaming --streaming-take 512 --num-samples 3 --save-dir /content/drive/MyDrive/VLM_Studies_Files/analysis/sample_gallery"
   ]
  },
  {
   "cell_type": "markdown",
   "metadata": {},
   "source": [
    "## Manual prompt run\n",
    "Use `run_on_uid` or `generate_from_sample` to work with the cached dataset without rerunning CLI scripts."
   ]
  },
  {
   "cell_type": "code",
   "execution_count": null,
   "metadata": {},
   "outputs": [],
   "source": [
    "from pathlib import Path\n",
    "import sys\n",
    "\n",
    "DATA_ROOT = Path('/content/drive/MyDrive/VLM_Studies_Files')\n",
    "sys.path.insert(0, str(Path.cwd()))\n",
    "\n",
    "from vlm_datasets.nlvr2 import NLVR2DataConfig, load_nlvr2, find_sample_by_uid\n",
    "from utils.prompts import build_conversation\n",
    "from utils.uid_cache import UIDCache, cycle_uids\n",
    "\n",
    "cache_dir = DATA_ROOT / 'datasets' / 'nlvr2_cache'\n",
    "cache_dir.mkdir(parents=True, exist_ok=True)\n",
    "dataset_cfg = NLVR2DataConfig(split='validation', streaming=False, cache_dir=str(cache_dir))\n",
    "full_dataset = load_nlvr2(dataset_cfg)\n",
    "\n",
    "UID_CACHE_PATH = DATA_ROOT / 'analysis' / 'uid_cache.json'\n",
    "uid_cache = UIDCache(UID_CACHE_PATH)\n",
    "print('Loaded validation split with', len(full_dataset), 'examples')\n",
    "print('Cached UIDs:', len(uid_cache))\n"
   ]
  },
  {
   "cell_type": "code",
   "execution_count": null,
   "metadata": {},
   "outputs": [],
   "source": [
    "from transformers import AutoModelForVision2Seq, AutoProcessor\n",
    "import torch\n",
    "\n",
    "MODEL_NAME = 'Qwen/Qwen2-VL-2B-Instruct'\n",
    "processor = AutoProcessor.from_pretrained(MODEL_NAME, trust_remote_code=True)\n",
    "model = AutoModelForVision2Seq.from_pretrained(\n",
    "    MODEL_NAME, trust_remote_code=True, device_map='auto'\n",
    ")\n",
    "model.eval()\n",
    "print('Model loaded')\n"
   ]
  },
  {
   "cell_type": "code",
   "execution_count": null,
   "metadata": {},
   "outputs": [],
   "source": [
    "from pathlib import Path\n",
    "from IPython.display import display\n",
    "import json\n",
    "\n",
    "def display_sample(sample):\n",
    "    print(f\"UID: {sample['uid']} | Label: {sample['label']}\")\n",
    "    print(sample['sentence'])\n",
    "    for img in sample['images']:\n",
    "        display(img)\n",
    "\n",
    "def generate_from_sample(sample, question, *, system=None, temperature=0.0, top_p=1.0, max_new_tokens=64, log_path=None):\n",
    "    messages = build_conversation(sample['images'], question, system_prompt=system)\n",
    "    inputs = processor.apply_chat_template(\n",
    "        messages, add_generation_prompt=True, tokenize=True, return_dict=True, return_tensors='pt'\n",
    "    )\n",
    "    inputs = {k: v.to(model.device) for k, v in inputs.items()}\n",
    "    with torch.no_grad():\n",
    "        output = model.generate(\n",
    "            **inputs, do_sample=temperature > 0, temperature=temperature, top_p=top_p,\n",
    "            max_new_tokens=max_new_tokens, pad_token_id=processor.tokenizer.eos_token_id\n",
    "        )\n",
    "    input_len = inputs['attention_mask'].sum(dim=1)[0]\n",
    "    generated = output[0, input_len:]\n",
    "    response = processor.tokenizer.decode(generated, skip_special_tokens=True).strip()\n",
    "    record = {\n",
    "        'uid': sample['uid'],\n",
    "        'question': question,\n",
    "        'response': response,\n",
    "        'temperature': temperature,\n",
    "        'top_p': top_p,\n",
    "        'max_new_tokens': max_new_tokens,\n",
    "        'system': system,\n",
    "    }\n",
    "    if log_path is not None:\n",
    "        log_path = Path(log_path)\n",
    "        log_path.parent.mkdir(parents=True, exist_ok=True)\n",
    "        with log_path.open('a', encoding='utf-8') as f:\n",
    "            json.dump(record, f)\n",
    "            f.write('\\n')\n",
    "    return record\n",
    "\n",
    "def cache_uids(uids):\n",
    "    if isinstance(uids, str):\n",
    "        uids = [uids]\n",
    "    uid_cache.extend(uids)\n",
    "    print('Cached UIDs:', len(uid_cache))\n",
    "\n",
    "def pop_cached_sample(uid=None):\n",
    "    for candidate in cycle_uids(uid_cache, start=uid):\n",
    "        sample = find_sample_by_uid(full_dataset, candidate, limit=None)\n",
    "        display_sample(sample)\n",
    "        return candidate\n",
    "    print('Cache empty')\n",
    "\n",
    "def run_on_uid(uid, question, **kwargs):\n",
    "    sample = find_sample_by_uid(full_dataset, uid, limit=None)\n",
    "    display_sample(sample)\n",
    "    result = generate_from_sample(sample, question, **kwargs)\n",
    "    print('\\nResponse:\\n' + result['response'])\n",
    "    return result\n"
   ]
  },
  {
   "cell_type": "code",
   "execution_count": null,
   "metadata": {},
   "outputs": [],
   "source": [
    "example_result = run_on_uid(\n",
    "    uid='dev-850-0-0',\n",
    "    question='Do the two images depict the same walkway? Answer True or False.',\n",
    "    temperature=0.0,\n",
    "    top_p=1.0,\n",
    "    max_new_tokens=32,\n",
    "    log_path=DATA_ROOT / 'analysis' / 'playground_runs.jsonl'\n",
    ")\n"
   ]
  }
 ],
 "metadata": {
  "kernelspec": {
   "display_name": "Python 3",
   "language": "python",
   "name": "python3"
  },
  "language_info": {
   "name": "python"
  }
 },
 "nbformat": 4,
 "nbformat_minor": 5
}
