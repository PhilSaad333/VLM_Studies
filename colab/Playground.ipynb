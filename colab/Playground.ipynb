{
 "cells": [
  {
   "cell_type": "markdown",
   "metadata": {},
   "source": ["# Qwen2-VL Playground"]
  },
  {
   "cell_type": "markdown",
   "metadata": {},
   "source": ["Mount Google Drive and clone the repository if needed."]
  },
  {
   "cell_type": "code",
   "execution_count": null,
   "metadata": {},
   "outputs": [],
   "source": ["from google.colab import drive\ndrive.mount('/content/drive')"]
  },
  {
   "cell_type": "code",
   "execution_count": null,
   "metadata": {},
   "outputs": [],
   "source": ["import os\nREPO_DIR = '/content/VLM_Studies'\nif not os.path.exists(REPO_DIR):\n    !git clone https://github.com/PhilSaad333/VLM_Studies.git {REPO_DIR}\nos.chdir(REPO_DIR)\nprint(f'Working directory: {os.getcwd()}')"]
  },
  {
   "cell_type": "code",
   "execution_count": null,
   "metadata": {},
   "outputs": [],
   "source": ["!pip install -q -r requirements.txt"]
  },
  {
   "cell_type": "markdown",
   "metadata": {},
   "source": ["## Sample NLVR2 examples"]
  },
  {
   "cell_type": "code",
   "execution_count": null,
   "metadata": {},
   "outputs": [],
   "source": ["!python scripts/sample_gallery.py --split validation --streaming --streaming-take 512 --num-samples 3 --save-dir /content/drive/MyDrive/VLM_Studies_Files/analysis/sample_gallery"]
  },
  {
   "cell_type": "markdown",
   "metadata": {},
   "source": ["## Manual prompt run"]
  },
  {
   "cell_type": "code",
   "execution_count": null,
   "metadata": {},
   "outputs": [],
   "source": ["!python scripts/model_playground.py \\n    --model-name Qwen/Qwen2-VL-2B-Instruct \\n    --uid dev-0-0 \\n    --split validation \\n    --streaming \\n    --streaming-take 512 \\n    --question 'Are both pictures showing boats on water? Answer True or False.' \\n    --temperature 0.0 \\n    --max-new-tokens 16 \\n    --log-jsonl /content/drive/MyDrive/VLM_Studies_Files/analysis/playground_runs.jsonl"]
  }
 ],
 "metadata": {
  "kernelspec": {
   "display_name": "Python 3",
   "language": "python",
   "name": "python3"
  },
  "language_info": {
   "name": "python"
  }
 },
 "nbformat": 4,
 "nbformat_minor": 5
}
